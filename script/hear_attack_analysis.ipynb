{
 "cells": [
  {
   "cell_type": "code",
   "execution_count": 38,
   "metadata": {},
   "outputs": [],
   "source": [
    "# import library \n",
    "import pandas as pd\n",
    "import matplotlib.pyplot as plt\n",
    "import seaborn as sns\n",
    "from sklearn.preprocessing import StandardScaler"
   ]
  },
  {
   "cell_type": "code",
   "execution_count": 2,
   "metadata": {},
   "outputs": [],
   "source": [
    "# import the data \n",
    "heart_data = pd.read_csv(\"/home/student/Documents/AIMS/COOP_tasks/data_science_projects/Heart_Attack_Risk_Assessment/data/updated_version.csv\")"
   ]
  },
  {
   "cell_type": "markdown",
   "metadata": {},
   "source": [
    "## Description of our dataset:\n",
    "\n",
    "This dataset contains 1,000 patient records generated for health risk assessment. <br>\n",
    "It includes biometric health indicators commonly used in cardiovascular and general health research. <br>\n",
    "Each record captures age, cholesterol levels, blood pressure, smoking habits, <br>\n",
    "diabetes status, and heart attack history—key factors influencing cardiovascular diseases.\n",
    "\n",
    "On this dataset we are intempt to run:\n",
    "* Exploratory Data Analysis (EDA)\n",
    "* Statistical analysis\n",
    "* Machine learning classification tasks\n",
    "\n",
    "\n",
    "These are the columns:\n",
    "* age: Patient's age (years)\n",
    "* sex: Biological sex (0 = Female, 1 = Male)\n",
    "* total_cholesterol: Total cholesterol level (mg/dL)\n",
    "* ldl: Low-Density Lipoprotein (LDL) cholesterol (mg/dL)\n",
    "* hdl: High-Density Lipoprotein (HDL) cholesterol (mg/dL)\n",
    "* systolic_bp: Systolic blood pressure (mmHg)\n",
    "* diastolic_bp: Diastolic blood pressure (mmHg)\n",
    "* smoking: Smoking status (0 = Non-Smoker, 1 = Smoker)\n",
    "* diabetes: Diabetes status (0 = No, 1 = Yes)\n",
    "* heart_attack: History of heart attack (0 = No, 1 = Yes)\n",
    "\n",
    "📌 Note: This dataset is synthetically generated and does not represent real patients. <br> \n",
    "It is meant for research and educational purposes only. "
   ]
  },
  {
   "cell_type": "code",
   "execution_count": null,
   "metadata": {},
   "outputs": [
    {
     "name": "stdout",
     "output_type": "stream",
     "text": [
      "(1000, 10)\n"
     ]
    }
   ],
   "source": [
    "# look at the shape of our dataset \n",
    "print(heart_data.shape)"
   ]
  },
  {
   "cell_type": "code",
   "execution_count": 4,
   "metadata": {},
   "outputs": [
    {
     "data": {
      "text/html": [
       "<div>\n",
       "<style scoped>\n",
       "    .dataframe tbody tr th:only-of-type {\n",
       "        vertical-align: middle;\n",
       "    }\n",
       "\n",
       "    .dataframe tbody tr th {\n",
       "        vertical-align: top;\n",
       "    }\n",
       "\n",
       "    .dataframe thead th {\n",
       "        text-align: right;\n",
       "    }\n",
       "</style>\n",
       "<table border=\"1\" class=\"dataframe\">\n",
       "  <thead>\n",
       "    <tr style=\"text-align: right;\">\n",
       "      <th></th>\n",
       "      <th>age</th>\n",
       "      <th>sex</th>\n",
       "      <th>total_cholesterol</th>\n",
       "      <th>ldl</th>\n",
       "      <th>hdl</th>\n",
       "      <th>systolic_bp</th>\n",
       "      <th>diastolic_bp</th>\n",
       "      <th>smoking</th>\n",
       "      <th>diabetes</th>\n",
       "      <th>heart_attack</th>\n",
       "    </tr>\n",
       "  </thead>\n",
       "  <tbody>\n",
       "    <tr>\n",
       "      <th>0</th>\n",
       "      <td>57</td>\n",
       "      <td>1</td>\n",
       "      <td>229.463642</td>\n",
       "      <td>175.879129</td>\n",
       "      <td>39.225687</td>\n",
       "      <td>124.070127</td>\n",
       "      <td>91.378780</td>\n",
       "      <td>0</td>\n",
       "      <td>0</td>\n",
       "      <td>0</td>\n",
       "    </tr>\n",
       "    <tr>\n",
       "      <th>1</th>\n",
       "      <td>58</td>\n",
       "      <td>1</td>\n",
       "      <td>186.464120</td>\n",
       "      <td>128.984916</td>\n",
       "      <td>34.950968</td>\n",
       "      <td>95.492552</td>\n",
       "      <td>64.355040</td>\n",
       "      <td>1</td>\n",
       "      <td>0</td>\n",
       "      <td>0</td>\n",
       "    </tr>\n",
       "    <tr>\n",
       "      <th>2</th>\n",
       "      <td>37</td>\n",
       "      <td>1</td>\n",
       "      <td>251.300719</td>\n",
       "      <td>152.347592</td>\n",
       "      <td>45.913288</td>\n",
       "      <td>99.519335</td>\n",
       "      <td>64.953147</td>\n",
       "      <td>0</td>\n",
       "      <td>1</td>\n",
       "      <td>0</td>\n",
       "    </tr>\n",
       "    <tr>\n",
       "      <th>3</th>\n",
       "      <td>55</td>\n",
       "      <td>1</td>\n",
       "      <td>192.058908</td>\n",
       "      <td>116.803684</td>\n",
       "      <td>67.208925</td>\n",
       "      <td>122.460002</td>\n",
       "      <td>73.821382</td>\n",
       "      <td>0</td>\n",
       "      <td>0</td>\n",
       "      <td>0</td>\n",
       "    </tr>\n",
       "    <tr>\n",
       "      <th>4</th>\n",
       "      <td>53</td>\n",
       "      <td>1</td>\n",
       "      <td>151.203448</td>\n",
       "      <td>107.017396</td>\n",
       "      <td>60.693838</td>\n",
       "      <td>123.022257</td>\n",
       "      <td>81.121946</td>\n",
       "      <td>0</td>\n",
       "      <td>1</td>\n",
       "      <td>0</td>\n",
       "    </tr>\n",
       "    <tr>\n",
       "      <th>5</th>\n",
       "      <td>39</td>\n",
       "      <td>1</td>\n",
       "      <td>236.033455</td>\n",
       "      <td>153.880809</td>\n",
       "      <td>31.208614</td>\n",
       "      <td>121.857396</td>\n",
       "      <td>79.589069</td>\n",
       "      <td>0</td>\n",
       "      <td>0</td>\n",
       "      <td>0</td>\n",
       "    </tr>\n",
       "    <tr>\n",
       "      <th>6</th>\n",
       "      <td>65</td>\n",
       "      <td>0</td>\n",
       "      <td>174.615665</td>\n",
       "      <td>114.029407</td>\n",
       "      <td>55.692586</td>\n",
       "      <td>135.605050</td>\n",
       "      <td>85.529955</td>\n",
       "      <td>0</td>\n",
       "      <td>0</td>\n",
       "      <td>0</td>\n",
       "    </tr>\n",
       "    <tr>\n",
       "      <th>7</th>\n",
       "      <td>33</td>\n",
       "      <td>0</td>\n",
       "      <td>242.919402</td>\n",
       "      <td>147.951375</td>\n",
       "      <td>54.439475</td>\n",
       "      <td>123.511557</td>\n",
       "      <td>77.331714</td>\n",
       "      <td>0</td>\n",
       "      <td>0</td>\n",
       "      <td>0</td>\n",
       "    </tr>\n",
       "    <tr>\n",
       "      <th>8</th>\n",
       "      <td>49</td>\n",
       "      <td>0</td>\n",
       "      <td>95.804359</td>\n",
       "      <td>83.304875</td>\n",
       "      <td>60.758929</td>\n",
       "      <td>111.697488</td>\n",
       "      <td>77.630529</td>\n",
       "      <td>1</td>\n",
       "      <td>0</td>\n",
       "      <td>0</td>\n",
       "    </tr>\n",
       "    <tr>\n",
       "      <th>9</th>\n",
       "      <td>55</td>\n",
       "      <td>0</td>\n",
       "      <td>181.360943</td>\n",
       "      <td>106.011783</td>\n",
       "      <td>50.576747</td>\n",
       "      <td>129.576418</td>\n",
       "      <td>87.588781</td>\n",
       "      <td>0</td>\n",
       "      <td>0</td>\n",
       "      <td>0</td>\n",
       "    </tr>\n",
       "  </tbody>\n",
       "</table>\n",
       "</div>"
      ],
      "text/plain": [
       "   age  sex  total_cholesterol         ldl        hdl  systolic_bp  \\\n",
       "0   57    1         229.463642  175.879129  39.225687   124.070127   \n",
       "1   58    1         186.464120  128.984916  34.950968    95.492552   \n",
       "2   37    1         251.300719  152.347592  45.913288    99.519335   \n",
       "3   55    1         192.058908  116.803684  67.208925   122.460002   \n",
       "4   53    1         151.203448  107.017396  60.693838   123.022257   \n",
       "5   39    1         236.033455  153.880809  31.208614   121.857396   \n",
       "6   65    0         174.615665  114.029407  55.692586   135.605050   \n",
       "7   33    0         242.919402  147.951375  54.439475   123.511557   \n",
       "8   49    0          95.804359   83.304875  60.758929   111.697488   \n",
       "9   55    0         181.360943  106.011783  50.576747   129.576418   \n",
       "\n",
       "   diastolic_bp  smoking  diabetes  heart_attack  \n",
       "0     91.378780        0         0             0  \n",
       "1     64.355040        1         0             0  \n",
       "2     64.953147        0         1             0  \n",
       "3     73.821382        0         0             0  \n",
       "4     81.121946        0         1             0  \n",
       "5     79.589069        0         0             0  \n",
       "6     85.529955        0         0             0  \n",
       "7     77.331714        0         0             0  \n",
       "8     77.630529        1         0             0  \n",
       "9     87.588781        0         0             0  "
      ]
     },
     "execution_count": 4,
     "metadata": {},
     "output_type": "execute_result"
    }
   ],
   "source": [
    "# take a look of some rows in our dataset\n",
    "heart_data.head(10)"
   ]
  },
  {
   "cell_type": "markdown",
   "metadata": {},
   "source": [
    "## Exploratory Data Analysis (EDA)"
   ]
  },
  {
   "cell_type": "code",
   "execution_count": 12,
   "metadata": {},
   "outputs": [
    {
     "name": "stdout",
     "output_type": "stream",
     "text": [
      "age                  0\n",
      "sex                  0\n",
      "total_cholesterol    0\n",
      "ldl                  0\n",
      "hdl                  0\n",
      "systolic_bp          0\n",
      "diastolic_bp         0\n",
      "smoking              0\n",
      "diabetes             0\n",
      "heart_attack         0\n",
      "dtype: int64 \n",
      " \n",
      "0 duplicated observations\n"
     ]
    }
   ],
   "source": [
    "# We check for missng and duplicated observations\n",
    "number_of_missing = heart_data.isnull().sum()\n",
    "number_of_duplicated = heart_data.duplicated().sum()\n",
    "\n",
    "print(number_of_missing,\"\\n \")\n",
    "print(number_of_duplicated,\"duplicated observations\")"
   ]
  },
  {
   "cell_type": "code",
   "execution_count": 19,
   "metadata": {},
   "outputs": [
    {
     "data": {
      "text/html": [
       "<div>\n",
       "<style scoped>\n",
       "    .dataframe tbody tr th:only-of-type {\n",
       "        vertical-align: middle;\n",
       "    }\n",
       "\n",
       "    .dataframe tbody tr th {\n",
       "        vertical-align: top;\n",
       "    }\n",
       "\n",
       "    .dataframe thead th {\n",
       "        text-align: right;\n",
       "    }\n",
       "</style>\n",
       "<table border=\"1\" class=\"dataframe\">\n",
       "  <thead>\n",
       "    <tr style=\"text-align: right;\">\n",
       "      <th></th>\n",
       "      <th>age</th>\n",
       "      <th>total_cholesterol</th>\n",
       "      <th>ldl</th>\n",
       "      <th>hdl</th>\n",
       "      <th>systolic_bp</th>\n",
       "      <th>diastolic_bp</th>\n",
       "    </tr>\n",
       "  </thead>\n",
       "  <tbody>\n",
       "    <tr>\n",
       "      <th>count</th>\n",
       "      <td>1000.000000</td>\n",
       "      <td>1000.000000</td>\n",
       "      <td>1000.000000</td>\n",
       "      <td>1000.000000</td>\n",
       "      <td>1000.000000</td>\n",
       "      <td>1000.000000</td>\n",
       "    </tr>\n",
       "    <tr>\n",
       "      <th>mean</th>\n",
       "      <td>49.886000</td>\n",
       "      <td>201.087486</td>\n",
       "      <td>130.047807</td>\n",
       "      <td>49.811244</td>\n",
       "      <td>120.312687</td>\n",
       "      <td>80.231248</td>\n",
       "    </tr>\n",
       "    <tr>\n",
       "      <th>std</th>\n",
       "      <td>14.209466</td>\n",
       "      <td>40.042655</td>\n",
       "      <td>30.041659</td>\n",
       "      <td>10.247178</td>\n",
       "      <td>15.507493</td>\n",
       "      <td>10.235917</td>\n",
       "    </tr>\n",
       "    <tr>\n",
       "      <th>min</th>\n",
       "      <td>18.000000</td>\n",
       "      <td>84.165932</td>\n",
       "      <td>36.259745</td>\n",
       "      <td>20.600644</td>\n",
       "      <td>74.433950</td>\n",
       "      <td>49.296305</td>\n",
       "    </tr>\n",
       "    <tr>\n",
       "      <th>25%</th>\n",
       "      <td>40.000000</td>\n",
       "      <td>174.707208</td>\n",
       "      <td>111.963197</td>\n",
       "      <td>42.622102</td>\n",
       "      <td>110.062952</td>\n",
       "      <td>73.277119</td>\n",
       "    </tr>\n",
       "    <tr>\n",
       "      <th>50%</th>\n",
       "      <td>49.000000</td>\n",
       "      <td>201.191547</td>\n",
       "      <td>130.678540</td>\n",
       "      <td>49.682809</td>\n",
       "      <td>120.042175</td>\n",
       "      <td>79.912592</td>\n",
       "    </tr>\n",
       "    <tr>\n",
       "      <th>75%</th>\n",
       "      <td>59.000000</td>\n",
       "      <td>226.251708</td>\n",
       "      <td>149.732446</td>\n",
       "      <td>56.703598</td>\n",
       "      <td>130.911804</td>\n",
       "      <td>87.084443</td>\n",
       "    </tr>\n",
       "    <tr>\n",
       "      <th>max</th>\n",
       "      <td>94.000000</td>\n",
       "      <td>354.660015</td>\n",
       "      <td>231.376631</td>\n",
       "      <td>82.319810</td>\n",
       "      <td>164.080967</td>\n",
       "      <td>113.848127</td>\n",
       "    </tr>\n",
       "  </tbody>\n",
       "</table>\n",
       "</div>"
      ],
      "text/plain": [
       "               age  total_cholesterol          ldl          hdl  systolic_bp  \\\n",
       "count  1000.000000        1000.000000  1000.000000  1000.000000  1000.000000   \n",
       "mean     49.886000         201.087486   130.047807    49.811244   120.312687   \n",
       "std      14.209466          40.042655    30.041659    10.247178    15.507493   \n",
       "min      18.000000          84.165932    36.259745    20.600644    74.433950   \n",
       "25%      40.000000         174.707208   111.963197    42.622102   110.062952   \n",
       "50%      49.000000         201.191547   130.678540    49.682809   120.042175   \n",
       "75%      59.000000         226.251708   149.732446    56.703598   130.911804   \n",
       "max      94.000000         354.660015   231.376631    82.319810   164.080967   \n",
       "\n",
       "       diastolic_bp  \n",
       "count   1000.000000  \n",
       "mean      80.231248  \n",
       "std       10.235917  \n",
       "min       49.296305  \n",
       "25%       73.277119  \n",
       "50%       79.912592  \n",
       "75%       87.084443  \n",
       "max      113.848127  "
      ]
     },
     "execution_count": 19,
     "metadata": {},
     "output_type": "execute_result"
    }
   ],
   "source": [
    "# summary of continouos variable in our dataset\n",
    "continuous_variable = heart_data[[\"age\",\"total_cholesterol\",\"ldl\",\"hdl\",\"systolic_bp\",\"diastolic_bp\"]]\n",
    "continuous_variable.describe()"
   ]
  },
  {
   "cell_type": "code",
   "execution_count": 42,
   "metadata": {},
   "outputs": [
    {
     "data": {
      "image/png": "[encoded data removed]",
      "text/plain": [
       "<Figure size 700x600 with 1 Axes>"
      ]
     },
     "metadata": {},
     "output_type": "display_data"
    }
   ],
   "source": [
    "# boxplot of the continuos variables\n",
    "plt.figure(figsize=(7, 6))\n",
    "sns.boxplot(data=continuous_variable)\n",
    "\n",
    "# Set labels and title\n",
    "plt.title('Boxplot of continuous variables')\n",
    "plt.xticks(rotation=90)\n",
    "plt.tight_layout()\n",
    "\n",
    "# Show the plot\n",
    "plt.show()"
   ]
  },
  {
   "cell_type": "markdown",
   "metadata": {},
   "source": [
    "## Insight and interpretation:\n",
    "\n",
    "Here we can all the box are center arround the mean which suggest us that they all follow a symetric distribution.<br>\n",
    "they are on each case some extreme values which are far from the oder values we should pay attention to those observations<br>\n",
    "have a direct effect on the incresing of the risk to get a hearth attack.    "
   ]
  },
  {
   "cell_type": "code",
   "execution_count": 37,
   "metadata": {},
   "outputs": [
    {
     "data": {
      "image/png": "[encoded data removed]",
      "text/plain": [
       "<Figure size 700x600 with 6 Axes>"
      ]
     },
     "metadata": {},
     "output_type": "display_data"
    }
   ],
   "source": [
    "# What about the distribution of the variable in our dataset\n",
    "# Histogramme of the continuous variables.\n",
    "plt.figure(figsize=(7, 6))\n",
    "# Loop through each continuous variable to plot their histogram\n",
    "for i, col in enumerate(continuous_variable.columns, 1):\n",
    "    plt.subplot(3, 2, i)  # Adjust the number of rows and columns for subplots\n",
    "    sns.histplot(continuous_variable[col], bins=15, kde=True)  # Plot histogram with KDE\n",
    "    plt.title(f'Histogram of {col}')\n",
    "    plt.xlabel(col)\n",
    "    plt.ylabel('Frequency')\n",
    "# Adjust layout\n",
    "plt.tight_layout()\n",
    "# Show the plot\n",
    "plt.show()"
   ]
  },
  {
   "cell_type": "markdown",
   "metadata": {},
   "source": [
    "Here we can see that the suggestions give by the box plot are confirmed since oll these variables are following normal distribution."
   ]
  },
  {
   "cell_type": "code",
   "execution_count": 41,
   "metadata": {},
   "outputs": [
    {
     "data": {
      "text/html": [
       "<div>\n",
       "<style scoped>\n",
       "    .dataframe tbody tr th:only-of-type {\n",
       "        vertical-align: middle;\n",
       "    }\n",
       "\n",
       "    .dataframe tbody tr th {\n",
       "        vertical-align: top;\n",
       "    }\n",
       "\n",
       "    .dataframe thead th {\n",
       "        text-align: right;\n",
       "    }\n",
       "</style>\n",
       "<table border=\"1\" class=\"dataframe\">\n",
       "  <thead>\n",
       "    <tr style=\"text-align: right;\">\n",
       "      <th></th>\n",
       "      <th>age</th>\n",
       "      <th>total_cholesterol</th>\n",
       "      <th>ldl</th>\n",
       "      <th>hdl</th>\n",
       "      <th>systolic_bp</th>\n",
       "      <th>diastolic_bp</th>\n",
       "    </tr>\n",
       "  </thead>\n",
       "  <tbody>\n",
       "    <tr>\n",
       "      <th>count</th>\n",
       "      <td>1.000000e+03</td>\n",
       "      <td>1.000000e+03</td>\n",
       "      <td>1.000000e+03</td>\n",
       "      <td>1.000000e+03</td>\n",
       "      <td>1.000000e+03</td>\n",
       "      <td>1.000000e+03</td>\n",
       "    </tr>\n",
       "    <tr>\n",
       "      <th>mean</th>\n",
       "      <td>-2.025047e-16</td>\n",
       "      <td>-2.842171e-16</td>\n",
       "      <td>-4.316547e-16</td>\n",
       "      <td>6.217249e-17</td>\n",
       "      <td>-7.460699e-17</td>\n",
       "      <td>5.710987e-16</td>\n",
       "    </tr>\n",
       "    <tr>\n",
       "      <th>std</th>\n",
       "      <td>1.000500e+00</td>\n",
       "      <td>1.000500e+00</td>\n",
       "      <td>1.000500e+00</td>\n",
       "      <td>1.000500e+00</td>\n",
       "      <td>1.000500e+00</td>\n",
       "      <td>1.000500e+00</td>\n",
       "    </tr>\n",
       "    <tr>\n",
       "      <th>min</th>\n",
       "      <td>-2.245120e+00</td>\n",
       "      <td>-2.921386e+00</td>\n",
       "      <td>-3.123496e+00</td>\n",
       "      <td>-2.852026e+00</td>\n",
       "      <td>-2.959969e+00</td>\n",
       "      <td>-3.023708e+00</td>\n",
       "    </tr>\n",
       "    <tr>\n",
       "      <th>25%</th>\n",
       "      <td>-6.960815e-01</td>\n",
       "      <td>-6.591341e-01</td>\n",
       "      <td>-6.022856e-01</td>\n",
       "      <td>-7.019240e-01</td>\n",
       "      <td>-6.612845e-01</td>\n",
       "      <td>-6.797250e-01</td>\n",
       "    </tr>\n",
       "    <tr>\n",
       "      <th>50%</th>\n",
       "      <td>-6.238400e-02</td>\n",
       "      <td>2.600065e-03</td>\n",
       "      <td>2.100577e-02</td>\n",
       "      <td>-1.253994e-02</td>\n",
       "      <td>-1.745272e-02</td>\n",
       "      <td>-3.114672e-02</td>\n",
       "    </tr>\n",
       "    <tr>\n",
       "      <th>75%</th>\n",
       "      <td>6.417244e-01</td>\n",
       "      <td>6.287499e-01</td>\n",
       "      <td>6.555726e-01</td>\n",
       "      <td>6.729465e-01</td>\n",
       "      <td>6.838256e-01</td>\n",
       "      <td>6.698593e-01</td>\n",
       "    </tr>\n",
       "    <tr>\n",
       "      <th>max</th>\n",
       "      <td>3.106104e+00</td>\n",
       "      <td>3.837143e+00</td>\n",
       "      <td>3.374631e+00</td>\n",
       "      <td>3.174028e+00</td>\n",
       "      <td>2.823808e+00</td>\n",
       "      <td>3.285851e+00</td>\n",
       "    </tr>\n",
       "  </tbody>\n",
       "</table>\n",
       "</div>"
      ],
      "text/plain": [
       "                age  total_cholesterol           ldl           hdl  \\\n",
       "count  1.000000e+03       1.000000e+03  1.000000e+03  1.000000e+03   \n",
       "mean  -2.025047e-16      -2.842171e-16 -4.316547e-16  6.217249e-17   \n",
       "std    1.000500e+00       1.000500e+00  1.000500e+00  1.000500e+00   \n",
       "min   -2.245120e+00      -2.921386e+00 -3.123496e+00 -2.852026e+00   \n",
       "25%   -6.960815e-01      -6.591341e-01 -6.022856e-01 -7.019240e-01   \n",
       "50%   -6.238400e-02       2.600065e-03  2.100577e-02 -1.253994e-02   \n",
       "75%    6.417244e-01       6.287499e-01  6.555726e-01  6.729465e-01   \n",
       "max    3.106104e+00       3.837143e+00  3.374631e+00  3.174028e+00   \n",
       "\n",
       "        systolic_bp  diastolic_bp  \n",
       "count  1.000000e+03  1.000000e+03  \n",
       "mean  -7.460699e-17  5.710987e-16  \n",
       "std    1.000500e+00  1.000500e+00  \n",
       "min   -2.959969e+00 -3.023708e+00  \n",
       "25%   -6.612845e-01 -6.797250e-01  \n",
       "50%   -1.745272e-02 -3.114672e-02  \n",
       "75%    6.838256e-01  6.698593e-01  \n",
       "max    2.823808e+00  3.285851e+00  "
      ]
     },
     "execution_count": 41,
     "metadata": {},
     "output_type": "execute_result"
    }
   ],
   "source": [
    "# Scaling the variable to be able to plot their scater plot\n",
    "scaler = StandardScaler()\n",
    "scaled_data = scaler.fit_transform(continuous_variable)\n",
    "# Convert back to a DataFrame with the same column names\n",
    "scaled_df = pd.DataFrame(scaled_data, columns=continuous_variable.columns)\n",
    "scaled_df.describe()"
   ]
  },
  {
   "cell_type": "code",
   "execution_count": 45,
   "metadata": {},
   "outputs": [],
   "source": [
    "# Scater plot matrix of our variables\n"
   ]
  },
  {
   "cell_type": "code",
   "execution_count": null,
   "metadata": {},
   "outputs": [],
   "source": [
    "# Correlation matrix of the dataset"
   ]
  },
  {
   "cell_type": "markdown",
   "metadata": {},
   "source": [
    "## Statistical analysis"
   ]
  },
  {
   "cell_type": "code",
   "execution_count": null,
   "metadata": {},
   "outputs": [],
   "source": [
    "# What is the effect of smoking on heart_attack"
   ]
  },
  {
   "cell_type": "code",
   "execution_count": null,
   "metadata": {},
   "outputs": [],
   "source": [
    "# Does the level of cholesterol and the age increase the risk of heart attack ?"
   ]
  },
  {
   "cell_type": "code",
   "execution_count": null,
   "metadata": {},
   "outputs": [],
   "source": [
    "# Does it have more heart attack in a given category of sexe ?"
   ]
  },
  {
   "cell_type": "code",
   "execution_count": null,
   "metadata": {},
   "outputs": [],
   "source": [
    "# how change the risk of heart attack with the ldl: Low-Density Lipoprotein, hdl: High-Density Lipoprotein"
   ]
  },
  {
   "cell_type": "markdown",
   "metadata": {},
   "source": [
    "## Build classification machine learning models"
   ]
  },
  {
   "cell_type": "code",
   "execution_count": null,
   "metadata": {},
   "outputs": [],
   "source": [
    "# we train first a full linear classification model."
   ]
  },
  {
   "cell_type": "code",
   "execution_count": null,
   "metadata": {},
   "outputs": [],
   "source": [
    "# interpretation of it's coefficient and variance analysis."
   ]
  },
  {
   "cell_type": "code",
   "execution_count": null,
   "metadata": {},
   "outputs": [],
   "source": [
    "# we perfom feature importance to see if we can build small model which perform better"
   ]
  },
  {
   "cell_type": "code",
   "execution_count": null,
   "metadata": {},
   "outputs": [],
   "source": [
    "# build a model with the important features"
   ]
  },
  {
   "cell_type": "code",
   "execution_count": null,
   "metadata": {},
   "outputs": [],
   "source": [
    "# interpratation of it's coefficient and variance analysis"
   ]
  },
  {
   "cell_type": "code",
   "execution_count": null,
   "metadata": {},
   "outputs": [],
   "source": [
    "# select feature by step-wise selection and see if the selected features will be the same selected when we where runing the feature importance"
   ]
  },
  {
   "cell_type": "code",
   "execution_count": null,
   "metadata": {},
   "outputs": [],
   "source": [
    "# we build different models using differents algorithm "
   ]
  },
  {
   "cell_type": "code",
   "execution_count": null,
   "metadata": {},
   "outputs": [],
   "source": [
    "# we compare the different obtained models\n"
   ]
  }
 ],
 "metadata": {
  "kernelspec": {
   "display_name": "base",
   "language": "python",
   "name": "python3"
  },
  "language_info": {
   "codemirror_mode": {
    "name": "ipython",
    "version": 3
   },
   "file_extension": ".py",
   "mimetype": "text/x-python",
   "name": "python",
   "nbconvert_exporter": "python",
   "pygments_lexer": "ipython3",
   "version": "3.12.2"
  }
 },
 "nbformat": 4,
 "nbformat_minor": 2
}
